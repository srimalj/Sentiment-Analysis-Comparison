{
 "cells": [
  {
   "cell_type": "markdown",
   "metadata": {},
   "source": [
    "# Get NLTK and Transformers sentiment scores on labelled dataset\n",
    "\n",
    "*References:*\n",
    "- https://huggingface.co/transformers/quicktour.html"
   ]
  },
  {
   "cell_type": "code",
   "execution_count": null,
   "metadata": {},
   "outputs": [],
   "source": [
    "import pandas as pd"
   ]
  },
  {
   "cell_type": "markdown",
   "metadata": {},
   "source": [
    "### Read data"
   ]
  },
  {
   "cell_type": "code",
   "execution_count": null,
   "metadata": {},
   "outputs": [],
   "source": [
    "# Read datasets\n",
    "amazon = pd.read_csv('../data/raw/uci-sentiment/amazon_cells_labelled.txt', sep='\\t', names=['Text', 'GT'])\n",
    "imdb = pd.read_csv('../data/raw/uci-sentiment/imdb_labelled.txt', sep='\\t', names=['Text', 'GT'])\n",
    "yelp = pd.read_csv('../data/raw/uci-sentiment/yelp_labelled.txt', sep='\\t', names=['Text', 'GT'])\n",
    "df = pd.concat([amazon, imdb, yelp])\n",
    "display(df.shape)\n",
    "df.head(3)"
   ]
  },
  {
   "cell_type": "markdown",
   "metadata": {},
   "source": [
    "### NLTK sentiment analysis"
   ]
  },
  {
   "cell_type": "code",
   "execution_count": null,
   "metadata": {},
   "outputs": [],
   "source": [
    "%time\n",
    "from nltk.sentiment import SentimentIntensityAnalyzer\n",
    "import nltk\n",
    "nltk.download('vader_lexicon')"
   ]
  },
  {
   "cell_type": "code",
   "execution_count": null,
   "metadata": {},
   "outputs": [],
   "source": [
    "%time\n",
    "\n",
    "sia = SentimentIntensityAnalyzer()\n",
    "\n",
    "display(sia.polarity_scores(\"Wow, NLTK is really powerful!\"))\n",
    "display(sia.polarity_scores(\"absolutely really bad\"))\n",
    "\n",
    "df['NLTK'] = df['GT'].apply(lambda x: sia.polarity_scores(str(x))['compound'])\n",
    "df.head(3)"
   ]
  },
  {
   "cell_type": "markdown",
   "metadata": {},
   "source": [
    "### Transformers"
   ]
  },
  {
   "cell_type": "code",
   "execution_count": null,
   "metadata": {},
   "outputs": [],
   "source": [
    "from transformers import pipeline"
   ]
  },
  {
   "cell_type": "code",
   "execution_count": null,
   "metadata": {},
   "outputs": [],
   "source": [
    "%time\n",
    "\n",
    "def tfScore(text, classifier):\n",
    "    r = classifier(text)\n",
    "    if r[0]['label'] == 'NEGATIVE':\n",
    "        return -1.0 * r[0]['score']\n",
    "    else:\n",
    "        return r[0]['score']\n",
    "\n",
    "    \n",
    "tfSentiment = pipeline('sentiment-analysis')\n",
    "\n",
    "display(tfScore('I feel horrible', tfSentiment))\n",
    "display(tfScore('I feel awesome', tfSentiment))\n",
    "\n",
    "df['Transformers'] = df['GT'].apply(lambda x: tfScore(str(x), tfSentiment))\n",
    "df.head(3)"
   ]
  },
  {
   "cell_type": "markdown",
   "metadata": {},
   "source": [
    "## Save output"
   ]
  },
  {
   "cell_type": "code",
   "execution_count": null,
   "metadata": {},
   "outputs": [],
   "source": [
    "df.to_csv('1-nltk-transformers.csv', index=False)"
   ]
  }
 ],
 "metadata": {
  "kernelspec": {
   "display_name": "Python 3",
   "language": "python",
   "name": "python3"
  },
  "language_info": {
   "codemirror_mode": {
    "name": "ipython",
    "version": 3
   },
   "file_extension": ".py",
   "mimetype": "text/x-python",
   "name": "python",
   "nbconvert_exporter": "python",
   "pygments_lexer": "ipython3",
   "version": "3.8.5"
  }
 },
 "nbformat": 4,
 "nbformat_minor": 4
}
